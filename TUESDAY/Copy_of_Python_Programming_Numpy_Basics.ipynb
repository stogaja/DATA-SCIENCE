{
  "cells": [
    {
      "cell_type": "markdown",
      "metadata": {
        "id": "c_BBfbCEZfDT"
      },
      "source": [
        "<font color=\"green\">*To start working on this notebook, or any other notebook that we will use in the Moringa Data Science Course, we will need to save our own copy of it. We can do this by clicking File > Save a Copy in Drive. We will then be able to make edits to our own copy of this notebook.*</font>"
      ]
    },
    {
      "cell_type": "markdown",
      "metadata": {
        "id": "dZSJZP9809aH"
      },
      "source": [
        "# Python Programming - Numpy Basics"
      ]
    },
    {
      "cell_type": "markdown",
      "metadata": {
        "id": "jZatZRIbkDz7"
      },
      "source": [
        "## 1.0 Importing our Library"
      ]
    },
    {
      "cell_type": "code",
      "execution_count": 13,
      "metadata": {
        "id": "HZ5j-AjX6ae-"
      },
      "outputs": [],
      "source": [
        "# We will first import the numpy library, so that we can leverage external functionalities \n",
        "# that do not come with python\n",
        "# \n",
        "import numpy as np"
      ]
    },
    {
      "cell_type": "markdown",
      "metadata": {
        "id": "c2bpaw2E1Afv"
      },
      "source": [
        "## 1.1 Creating Arrays"
      ]
    },
    {
      "cell_type": "code",
      "execution_count": 14,
      "metadata": {
        "colab": {
          "base_uri": "https://localhost:8080/"
        },
        "id": "ToZ19MKQ06NI",
        "outputId": "cbceb37f-ad7b-4a94-f8c3-745be54aa2e0"
      },
      "outputs": [
        {
          "name": "stdout",
          "output_type": "stream",
          "text": [
            "[0 1 2 3 4]\n"
          ]
        }
      ],
      "source": [
        "# Example 1\n",
        "# Numpy arrays are a type of data structures that hold some benefits over \n",
        "# Python lists such as being more compact, faster access in reading \n",
        "# and writing items. To get started, we can create a 1 dimension (1D) Array \n",
        "# using a Python List as shown below.\n",
        "#\n",
        "my_list = [0, 1, 2, 3, 4]\n",
        "npy_my_list = np.array(my_list)\n",
        "\n",
        "print(npy_my_list)"
      ]
    },
    {
      "cell_type": "code",
      "execution_count": 15,
      "metadata": {
        "colab": {
          "base_uri": "https://localhost:8080/"
        },
        "id": "QfwikEjh3-Az",
        "outputId": "3a00966c-2373-4da0-d944-dcd39a872623"
      },
      "outputs": [
        {
          "name": "stdout",
          "output_type": "stream",
          "text": [
            "[0. 0. 0. 0. 0.]\n",
            "[[1. 1. 1. 1.]\n",
            " [1. 1. 1. 1.]\n",
            " [1. 1. 1. 1.]]\n"
          ]
        }
      ],
      "source": [
        "# Example 2\n",
        "# We can also create 1D arrays of zeros and 2D arrays of ones \n",
        "# from Numpy builtin functions by;\n",
        "#\n",
        "zeros_arr = np.zeros(5)\n",
        "ones_arr = np.ones([3, 4])\n",
        "\n",
        "print(zeros_arr)\n",
        "print(ones_arr)"
      ]
    },
    {
      "cell_type": "code",
      "execution_count": 16,
      "metadata": {
        "colab": {
          "base_uri": "https://localhost:8080/"
        },
        "id": "HNCFd0Tr3_Gy",
        "outputId": "17eca80b-7e5f-4cdb-c447-5e893f9a54f6"
      },
      "outputs": [
        {
          "name": "stdout",
          "output_type": "stream",
          "text": [
            "[0.75279931 0.47915101 0.26986156]\n"
          ]
        }
      ],
      "source": [
        "# Example 3\n",
        "# Creating an Array with 3 random values  \n",
        "# \n",
        "rand_arr = np.random.rand(3)\n",
        "\n",
        "print(rand_arr)"
      ]
    },
    {
      "cell_type": "code",
      "execution_count": 17,
      "metadata": {
        "colab": {
          "base_uri": "https://localhost:8080/"
        },
        "id": "JmPLdMUBBuMD",
        "outputId": "f47fa5cd-5e97-4a0b-ae4d-ef9edc7688ad"
      },
      "outputs": [
        {
          "name": "stdout",
          "output_type": "stream",
          "text": [
            "[0 2 4]\n"
          ]
        }
      ],
      "source": [
        "# Example 4\n",
        "# Creating an array with evenly spaced values within a given interval \n",
        "# as shown using the Numpy arrange function\n",
        "# \n",
        "even_arr = np.arange(0,6,2)\n",
        "\n",
        "print(even_arr)"
      ]
    },
    {
      "cell_type": "code",
      "execution_count": 18,
      "metadata": {
        "colab": {
          "base_uri": "https://localhost:8080/"
        },
        "id": "ayLolFnVebvC",
        "outputId": "52f3f1f1-3e69-45c4-c6f4-8e99eae6dca1"
      },
      "outputs": [
        {
          "name": "stdout",
          "output_type": "stream",
          "text": [
            "[[ 1  2  3  4  5]\n",
            " [ 6  7  8  9 10]\n",
            " [11 12 13 14 15]\n",
            " [16 17 18 19 20]\n",
            " [21 22 23 24 25]]\n"
          ]
        }
      ],
      "source": [
        "# Example 5\n",
        "# Create a 5 x 5 matix with elements from 1 to 25\n",
        "#\n",
        "five_matrix = np.arange(1,26).reshape(5,5)\n",
        "\n",
        "print(five_matrix)"
      ]
    },
    {
      "cell_type": "markdown",
      "metadata": {
        "id": "qcP0FkJq6q-r"
      },
      "source": [
        "### <font color=\"green\">1.1 Challenges"
      ]
    },
    {
      "cell_type": "code",
      "execution_count": 19,
      "metadata": {
        "colab": {
          "base_uri": "https://localhost:8080/"
        },
        "id": "MBV-dKC_6tZx",
        "outputId": "0185c2f1-0709-4520-c360-78751bc93614"
      },
      "outputs": [
        {
          "name": "stdout",
          "output_type": "stream",
          "text": [
            "[[0, 1, 2], [3, 4, 5]]\n"
          ]
        }
      ],
      "source": [
        "# Challenge 1\n",
        "# Create a 2D array matix using the list matr = my_mat = [[0,1,2],[3,4,5]]\n",
        "# Hint: Learn from Example 2\n",
        "# \n",
        "\n",
        "matr = np.my_mat=(([[0,1,2],[3,4,5]]))\n",
        "\n",
        "print(matr)"
      ]
    },
    {
      "cell_type": "code",
      "execution_count": 20,
      "metadata": {
        "colab": {
          "base_uri": "https://localhost:8080/"
        },
        "id": "aquNQ1XH6vGL",
        "outputId": "7f70eacf-9eba-4501-bc9c-7585fe9221db"
      },
      "outputs": [
        {
          "name": "stdout",
          "output_type": "stream",
          "text": [
            "[[0. 0. 0. 0.]\n",
            " [0. 0. 0. 0.]\n",
            " [0. 0. 0. 0.]]\n"
          ]
        }
      ],
      "source": [
        "# Challenge 2\n",
        "# Create a 2D array of zeros \n",
        "# Hint: Learn from Example 2\n",
        "#\n",
        "zeros_arr = np.zeros([3, 4])\n",
        "\n",
        "print(zeros_arr)"
      ]
    },
    {
      "cell_type": "code",
      "execution_count": 21,
      "metadata": {
        "colab": {
          "base_uri": "https://localhost:8080/"
        },
        "id": "tslhBNMQ6wU-",
        "outputId": "88943d18-9b56-4caa-c9bd-092b230ab08f"
      },
      "outputs": [
        {
          "name": "stdout",
          "output_type": "stream",
          "text": [
            "[[0.63733286 0.39654201 0.76928481]\n",
            " [0.79050306 0.64540075 0.44187243]\n",
            " [0.47883113 0.33119413 0.1825009 ]]\n"
          ]
        }
      ],
      "source": [
        "# Challenge 3\n",
        "# Create a 2D array of random values\n",
        "# Hint: Learn from Example 2\n",
        "#\n",
        "\n",
        "new_array = np.random.random((3,3))\n",
        "\n",
        "print(new_array)"
      ]
    },
    {
      "cell_type": "code",
      "execution_count": 22,
      "metadata": {
        "colab": {
          "base_uri": "https://localhost:8080/"
        },
        "id": "ukWLHCL0CJx1",
        "outputId": "3c75b7f6-01f9-4808-cfac-eb863ae310bb"
      },
      "outputs": [
        {
          "name": "stdout",
          "output_type": "stream",
          "text": [
            "[[[ 6  8]\n",
            "  [10 12]\n",
            "  [14 16]]\n",
            "\n",
            " [[18 20]\n",
            "  [22 24]\n",
            "  [26 28]]\n",
            "\n",
            " [[30 32]\n",
            "  [34 36]\n",
            "  [38 40]]]\n"
          ]
        }
      ],
      "source": [
        "# Challenge 4\n",
        "# Create a 3D array with values starting 6, stops at 40 with interval of 2\n",
        "#\n",
        "even_arr = np.arange(6,41,2).reshape((3, 3, 2))\n",
        "\n",
        "print(even_arr)"
      ]
    },
    {
      "cell_type": "markdown",
      "metadata": {
        "id": "BqyScgzc410j"
      },
      "source": [
        "## 1.2 Attributes and Functions"
      ]
    },
    {
      "cell_type": "code",
      "execution_count": 23,
      "metadata": {
        "colab": {
          "base_uri": "https://localhost:8080/"
        },
        "id": "eLjMuBef93ZF",
        "outputId": "06bbc6ad-062e-42b6-cc0a-77178576c281"
      },
      "outputs": [
        {
          "name": "stdout",
          "output_type": "stream",
          "text": [
            "[0.6482609  0.38876669 0.27005134 0.71364422 0.09220607]\n"
          ]
        }
      ],
      "source": [
        "# We use attributes to access information about a particular array,\n",
        "# while functions to perform a certain operations to the array. \n",
        "# We will learn about attributes and functions in this section of the session.\n",
        "# First let's generate a 1D array to work with; we will name \n",
        "# this attribute attribute_arr as shown below;\n",
        "# \n",
        "attribute_arr = np.random.rand(5)\n",
        "\n",
        "print(attribute_arr)"
      ]
    },
    {
      "cell_type": "code",
      "execution_count": 24,
      "metadata": {
        "colab": {
          "base_uri": "https://localhost:8080/"
        },
        "id": "LQ8aYHM-45r6",
        "outputId": "c4d9a001-c7df-423b-d797-bc49ea895d8c"
      },
      "outputs": [
        {
          "data": {
            "text/plain": [
              "0.713644217336024"
            ]
          },
          "execution_count": 24,
          "metadata": {},
          "output_type": "execute_result"
        }
      ],
      "source": [
        "# Example 1\n",
        "# Using the max() function\n",
        "# \n",
        "attribute_arr.max()"
      ]
    },
    {
      "cell_type": "code",
      "execution_count": 25,
      "metadata": {
        "colab": {
          "base_uri": "https://localhost:8080/"
        },
        "id": "WMYeiSXA46iR",
        "outputId": "42a1f8f8-c4f4-4e0a-f8fc-3a526aa98e1a"
      },
      "outputs": [
        {
          "data": {
            "text/plain": [
              "0.09220607210783371"
            ]
          },
          "execution_count": 25,
          "metadata": {},
          "output_type": "execute_result"
        }
      ],
      "source": [
        "# Example 2\n",
        "# Using the min() function \n",
        "# \n",
        "attribute_arr.min()"
      ]
    },
    {
      "cell_type": "code",
      "execution_count": 26,
      "metadata": {
        "colab": {
          "base_uri": "https://localhost:8080/"
        },
        "id": "EopHxyUU46Y6",
        "outputId": "5c55331e-ea6c-4320-8c72-fad76ea4b0bb"
      },
      "outputs": [
        {
          "data": {
            "text/plain": [
              "3"
            ]
          },
          "execution_count": 26,
          "metadata": {},
          "output_type": "execute_result"
        }
      ],
      "source": [
        "# Example 3\n",
        "# Using the argmax() function to return the indice of the max element of the array \n",
        "#\n",
        "attribute_arr.argmax()"
      ]
    },
    {
      "cell_type": "code",
      "execution_count": 27,
      "metadata": {
        "colab": {
          "base_uri": "https://localhost:8080/"
        },
        "id": "n5K9YACf5L_z",
        "outputId": "6beaa3bf-fc9d-4ca5-e00d-6cacadbef32c"
      },
      "outputs": [
        {
          "data": {
            "text/plain": [
              "4"
            ]
          },
          "execution_count": 27,
          "metadata": {},
          "output_type": "execute_result"
        }
      ],
      "source": [
        "# Example 4\n",
        "# Using the argmin() function to return the indice of the min element of the array\n",
        "#\n",
        "attribute_arr.argmin()"
      ]
    },
    {
      "cell_type": "code",
      "execution_count": 28,
      "metadata": {
        "colab": {
          "base_uri": "https://localhost:8080/"
        },
        "id": "Sfb8LcQR5R7x",
        "outputId": "e532e167-72e2-44ab-ee4c-f574c2e432b1"
      },
      "outputs": [
        {
          "data": {
            "text/plain": [
              "(5,)"
            ]
          },
          "execution_count": 28,
          "metadata": {},
          "output_type": "execute_result"
        }
      ],
      "source": [
        "# Example 5\n",
        "# Using the shape attribute to find the size of the array\n",
        "#\n",
        "attribute_arr.shape"
      ]
    },
    {
      "cell_type": "markdown",
      "metadata": {
        "id": "3w2o-QzS60AR"
      },
      "source": [
        "### <font color=\"green\">1.2. Challenges</font>"
      ]
    },
    {
      "cell_type": "code",
      "execution_count": 29,
      "metadata": {
        "colab": {
          "base_uri": "https://localhost:8080/"
        },
        "id": "VKNneHD4-4BY",
        "outputId": "5c6ebbee-869b-43d2-9a9a-b7419c63f438"
      },
      "outputs": [
        {
          "name": "stdout",
          "output_type": "stream",
          "text": [
            "[[0.23817527 0.54503315 0.99377865 0.1587568  0.48517369]\n",
            " [0.98680228 0.07994439 0.4013436  0.69624652 0.40097945]\n",
            " [0.87339778 0.43165223 0.78023092 0.45645668 0.07196185]\n",
            " [0.72473611 0.58688782 0.42820823 0.79371095 0.62249005]\n",
            " [0.26253376 0.77238793 0.57205007 0.26701549 0.53596303]]\n"
          ]
        }
      ],
      "source": [
        "# First generate a 2D array to work with\n",
        "attribute_arr = np.random.random((5,5))\n",
        "\n",
        "print(attribute_arr)"
      ]
    },
    {
      "cell_type": "code",
      "execution_count": 30,
      "metadata": {
        "colab": {
          "base_uri": "https://localhost:8080/"
        },
        "id": "ygUyasmp62jO",
        "outputId": "81860cdc-6d8b-40b9-ccb3-60041cabf123"
      },
      "outputs": [
        {
          "data": {
            "text/plain": [
              "0.07196184710559017"
            ]
          },
          "execution_count": 30,
          "metadata": {},
          "output_type": "execute_result"
        }
      ],
      "source": [
        "# Challenge 1\n",
        "# Then we will find the minimum value of the 2D array\n",
        "#\n",
        "attribute_arr.min()"
      ]
    },
    {
      "cell_type": "code",
      "execution_count": 31,
      "metadata": {
        "colab": {
          "base_uri": "https://localhost:8080/"
        },
        "id": "Vi6G0azm637R",
        "outputId": "a89855f2-f2f4-45d3-dda9-8bffa649188b"
      },
      "outputs": [
        {
          "data": {
            "text/plain": [
              "0.9937786542081766"
            ]
          },
          "execution_count": 31,
          "metadata": {},
          "output_type": "execute_result"
        }
      ],
      "source": [
        "# Challenge 2\n",
        "# We will find the maximum value of the 2D array\n",
        "#\n",
        "attribute_arr.max()"
      ]
    },
    {
      "cell_type": "code",
      "execution_count": 32,
      "metadata": {
        "colab": {
          "base_uri": "https://localhost:8080/"
        },
        "id": "84WVD6TA65Bm",
        "outputId": "9e077edf-751a-40f7-94f2-c60c69a51eb1"
      },
      "outputs": [
        {
          "data": {
            "text/plain": [
              "2"
            ]
          },
          "execution_count": 32,
          "metadata": {},
          "output_type": "execute_result"
        }
      ],
      "source": [
        "# Challenge 3\n",
        "# Then return the indice of the maximun element of the 2D array \n",
        "# \n",
        "attribute_arr.argmax()"
      ]
    },
    {
      "cell_type": "code",
      "execution_count": 33,
      "metadata": {
        "colab": {
          "base_uri": "https://localhost:8080/"
        },
        "id": "kpaSbWQt66Fz",
        "outputId": "c4504b07-6cf8-46d3-a45b-555fc1e6f0b4"
      },
      "outputs": [
        {
          "data": {
            "text/plain": [
              "14"
            ]
          },
          "execution_count": 33,
          "metadata": {},
          "output_type": "execute_result"
        }
      ],
      "source": [
        "# Challenge 4\n",
        "# Again return the indice of the minimum element of the 2D array\n",
        "# \n",
        "attribute_arr.argmin()"
      ]
    },
    {
      "cell_type": "code",
      "execution_count": 34,
      "metadata": {
        "colab": {
          "base_uri": "https://localhost:8080/"
        },
        "id": "0Snj7gJo67OU",
        "outputId": "e4155dac-6284-4471-a24c-8a23e43e9f02"
      },
      "outputs": [
        {
          "data": {
            "text/plain": [
              "(5, 5)"
            ]
          },
          "execution_count": 34,
          "metadata": {},
          "output_type": "execute_result"
        }
      ],
      "source": [
        "# Challenge 5\n",
        "# Lastly, return the data type of the generated 2D array using dtype\n",
        "# \n",
        "attribute_arr.shape"
      ]
    },
    {
      "cell_type": "markdown",
      "metadata": {
        "id": "lpP7qc835YZX"
      },
      "source": [
        "## 1.3  Indexing  and Broadcasting"
      ]
    },
    {
      "cell_type": "code",
      "execution_count": 35,
      "metadata": {
        "colab": {
          "base_uri": "https://localhost:8080/"
        },
        "id": "bd0imU6GKHfs",
        "outputId": "293596ae-213a-4690-aed1-3c87f3547706"
      },
      "outputs": [
        {
          "name": "stdout",
          "output_type": "stream",
          "text": [
            "[ 0  2  4  6  8 10 12 14]\n"
          ]
        }
      ],
      "source": [
        "# Creating an array to work with. The array will be comprised of even numbers from 0 t0 15\n",
        "in_array = np.arange(0,15,2)\n",
        "\n",
        "print(in_array)"
      ]
    },
    {
      "cell_type": "code",
      "execution_count": 36,
      "metadata": {
        "colab": {
          "base_uri": "https://localhost:8080/"
        },
        "id": "e_yW1XvJ5dxC",
        "outputId": "9853387b-92eb-43db-ff25-234fdf6d30fe"
      },
      "outputs": [
        {
          "name": "stdout",
          "output_type": "stream",
          "text": [
            "4\n",
            "[2 4 6 8]\n",
            "[ 6  8 10 12 14]\n"
          ]
        }
      ],
      "source": [
        "# Example 1\n",
        "# Bracketing indexing allows us to access\n",
        "# elements from a Numpy array as shown\n",
        "# \n",
        "print(in_array[2]) # Displays the third element in the list\n",
        "print(in_array[1:5]) # Displays values from the second element to the fifth element\n",
        "print(in_array[3:]) # Displays the 4th element to the last element in the list"
      ]
    },
    {
      "cell_type": "code",
      "execution_count": 37,
      "metadata": {
        "colab": {
          "base_uri": "https://localhost:8080/"
        },
        "id": "NzNROPLy5vg3",
        "outputId": "90da4189-39a0-4df2-ea70-c847402a090c"
      },
      "outputs": [
        {
          "name": "stdout",
          "output_type": "stream",
          "text": [
            "[100 100   4   6   8  10  12  14]\n",
            "[ 0  1  2  3  4  5  6  7  8  9 10]\n",
            "[ 0  1  2  3  4  5  6  7  8  9 10]\n",
            "[0 1 2 3 4]\n",
            "[22 22 22 22 22]\n",
            "[22 22 22 22 22  5  6  7  8  9 10]\n",
            "[ 0  1  2  3  4  5  6  7  8  9 10]\n"
          ]
        }
      ],
      "source": [
        "# Example 2\n",
        "# Arrays with different sizes cannot be added, subtracted or used in any arithmetic.\n",
        "# one way of solving this is to duplicate the smaller array so that its size is the same as the larger array.\n",
        "# This process is called broadasting and is available in numpy. \n",
        "\n",
        "# Broadcasting is Numpy's terminology for performing mathematical operations \n",
        "# between arrays with different shapes. This example provides insights on \n",
        "# broadcasting. First, lets run this cell then later uncomment each block trying\n",
        "# to understand what happens. \n",
        "# Once you're done with the final block, you can get a detailed explanation \n",
        "# on broadcasting here: http://bit.ly/NumpyBroadcasting\n",
        "# \n",
        "\n",
        "in_array[0:2] = 100\n",
        "print(in_array)\n",
        "\n",
        "#First reseting our array i.e. recreating it\n",
        "in_array = np.arange(0,11)\n",
        "print(in_array)\n",
        "\n",
        "# Then making a copy \n",
        "in_array_copy = in_array.copy()\n",
        "print(in_array_copy)\n",
        "\n",
        "# Afterwards creating a new array upon slicing\n",
        "slice_of_arr = in_array[0:5]\n",
        "print(slice_of_arr)\n",
        "\n",
        "# Changing the Slice\n",
        "slice_of_arr[:]=22\n",
        "print(slice_of_arr)\n",
        "\n",
        "# NB: Changes also occur in our original array\n",
        "print(in_array)\n",
        "\n",
        "# check your copy\n",
        "print(in_array_copy)"
      ]
    },
    {
      "cell_type": "code",
      "execution_count": 38,
      "metadata": {
        "colab": {
          "base_uri": "https://localhost:8080/"
        },
        "id": "juXc8Yem584S",
        "outputId": "db6c3119-8f83-43da-91c4-bc5399073e69"
      },
      "outputs": [
        {
          "name": "stdout",
          "output_type": "stream",
          "text": [
            "[[21 22 23]\n",
            " [11 22 33]\n",
            " [43 77 89]]\n",
            "33\n",
            "[11 22 33]\n",
            "[22 22 77]\n"
          ]
        }
      ],
      "source": [
        "# Example 3\n",
        "# Indexing a 2D array (matrices)\n",
        "# \n",
        "\n",
        "ind_arr_2d = np.array(([21, 22, 23], [11, 22, 33], [43, 77, 89]))\n",
        "print(ind_arr_2d)\n",
        "\n",
        "# Selecting element at row index 1 & column index 2\n",
        "#\n",
        "print(ind_arr_2d[1][2])\n",
        "\n",
        "# Selecting a Row at index 1\n",
        "#\n",
        "row = ind_arr_2d[1]\n",
        "print(row)\n",
        "\n",
        "# Selecting a column at index 1 \n",
        "# \n",
        "column = ind_arr_2d[:, 1]\n",
        "print(column)"
      ]
    },
    {
      "cell_type": "code",
      "execution_count": 39,
      "metadata": {
        "colab": {
          "base_uri": "https://localhost:8080/"
        },
        "id": "l-PTQXUi6Cxp",
        "outputId": "d2dc37ce-1f61-4900-c4e9-fb3f906b00f8"
      },
      "outputs": [
        {
          "name": "stdout",
          "output_type": "stream",
          "text": [
            "[[0. 0. 0. 0. 0. 0. 0. 0. 0. 0.]\n",
            " [0. 0. 0. 0. 0. 0. 0. 0. 0. 0.]\n",
            " [0. 0. 0. 0. 0. 0. 0. 0. 0. 0.]\n",
            " [0. 0. 0. 0. 0. 0. 0. 0. 0. 0.]\n",
            " [0. 0. 0. 0. 0. 0. 0. 0. 0. 0.]\n",
            " [0. 0. 0. 0. 0. 0. 0. 0. 0. 0.]\n",
            " [0. 0. 0. 0. 0. 0. 0. 0. 0. 0.]\n",
            " [0. 0. 0. 0. 0. 0. 0. 0. 0. 0.]\n",
            " [0. 0. 0. 0. 0. 0. 0. 0. 0. 0.]\n",
            " [0. 0. 0. 0. 0. 0. 0. 0. 0. 0.]]\n",
            "10\n",
            "[[0. 0. 0. 0. 0. 0. 0. 0. 0. 0.]\n",
            " [1. 1. 1. 1. 1. 1. 1. 1. 1. 1.]\n",
            " [2. 2. 2. 2. 2. 2. 2. 2. 2. 2.]\n",
            " [3. 3. 3. 3. 3. 3. 3. 3. 3. 3.]\n",
            " [4. 4. 4. 4. 4. 4. 4. 4. 4. 4.]\n",
            " [5. 5. 5. 5. 5. 5. 5. 5. 5. 5.]\n",
            " [6. 6. 6. 6. 6. 6. 6. 6. 6. 6.]\n",
            " [7. 7. 7. 7. 7. 7. 7. 7. 7. 7.]\n",
            " [8. 8. 8. 8. 8. 8. 8. 8. 8. 8.]\n",
            " [9. 9. 9. 9. 9. 9. 9. 9. 9. 9.]]\n"
          ]
        },
        {
          "data": {
            "text/plain": [
              "array([[0., 0., 0., 0., 0., 0., 0., 0., 0., 0.],\n",
              "       [2., 2., 2., 2., 2., 2., 2., 2., 2., 2.],\n",
              "       [3., 3., 3., 3., 3., 3., 3., 3., 3., 3.]])"
            ]
          },
          "execution_count": 39,
          "metadata": {},
          "output_type": "execute_result"
        }
      ],
      "source": [
        "# Example 4 \n",
        "# Fancy Indexing allows us to select entire rows or columns out of order\n",
        "# as shown\n",
        "# \n",
        "\n",
        "# First creating an array or zeros\n",
        "arr2d = np.zeros((10,10))\n",
        "print(arr2d)\n",
        "\n",
        "# Length of array\n",
        "arr_length = arr2d.shape[1]\n",
        "print(arr_length)\n",
        "\n",
        "# creating the array \n",
        "for i in range(arr_length):\n",
        "    arr2d[i] = i\n",
        "    \n",
        "print(arr2d)\n",
        "\n",
        "# Now selecting the first, third and the fourth rows via fancy indexing\n",
        "arr2d[[0,2,3]]"
      ]
    },
    {
      "cell_type": "markdown",
      "metadata": {
        "id": "vtbzfkVu7A_i"
      },
      "source": [
        "### <font color=\"green\">1.3. Challenges</font>"
      ]
    },
    {
      "cell_type": "code",
      "execution_count": 40,
      "metadata": {
        "colab": {
          "base_uri": "https://localhost:8080/"
        },
        "id": "AoybsIQPODZD",
        "outputId": "7f9beaa1-7d24-40b9-f6a6-01497e9c1169"
      },
      "outputs": [
        {
          "name": "stdout",
          "output_type": "stream",
          "text": [
            "[[15 20 25]\n",
            " [15 20 25]\n",
            " [30 35 40]]\n"
          ]
        }
      ],
      "source": [
        "# First, we create a 2D array to work with\n",
        "array_2d = np.array(([15,20,25],[15,20,25],[30,35,40]))\n",
        "\n",
        "print(array_2d)"
      ]
    },
    {
      "cell_type": "code",
      "execution_count": 41,
      "metadata": {
        "colab": {
          "base_uri": "https://localhost:8080/"
        },
        "id": "t2DLZeOs7Fej",
        "outputId": "d1bb7e0c-876d-492c-e1ef-329fa9e05552"
      },
      "outputs": [
        {
          "name": "stdout",
          "output_type": "stream",
          "text": [
            "[30 35 40]\n"
          ]
        }
      ],
      "source": [
        "# Challenge 1\n",
        "# Let's get the 3rd row of the array\n",
        "# \n",
        "row = array_2d[2]\n",
        "\n",
        "print(row)"
      ]
    },
    {
      "cell_type": "code",
      "execution_count": 42,
      "metadata": {
        "colab": {
          "base_uri": "https://localhost:8080/"
        },
        "id": "mrcHn88Q7GuP",
        "outputId": "0f6b05c7-aedc-4df0-d1eb-7a9b71f07658"
      },
      "outputs": [
        {
          "name": "stdout",
          "output_type": "stream",
          "text": [
            "35\n"
          ]
        }
      ],
      "source": [
        "# Challenge 2\n",
        "# Let's get the individual element 35\n",
        "# using the format arr_2d[row][col] or arr_2d[row,col]\n",
        "#\n",
        "print(array_2d[2][1])"
      ]
    },
    {
      "cell_type": "code",
      "execution_count": 43,
      "metadata": {
        "colab": {
          "base_uri": "https://localhost:8080/"
        },
        "id": "2Q_POLIs7IKI",
        "outputId": "2756de53-7bbd-4a44-8924-3dca0aeca938"
      },
      "outputs": [
        {
          "name": "stdout",
          "output_type": "stream",
          "text": [
            "[[20 25]\n",
            " [20 25]]\n"
          ]
        }
      ],
      "source": [
        "# Challenge 3\n",
        "# Let's slice the array (2,2) from top right corner\n",
        "# \n",
        "slice_array_2d = array_2d[0:2,1:]\n",
        "print(slice_array_2d)"
      ]
    },
    {
      "cell_type": "code",
      "execution_count": 44,
      "metadata": {
        "colab": {
          "base_uri": "https://localhost:8080/"
        },
        "id": "dumxoNxX7JKO",
        "outputId": "2a630aa9-0585-4bc5-d341-7072032cbbb1"
      },
      "outputs": [
        {
          "name": "stdout",
          "output_type": "stream",
          "text": [
            "[[0.57490128 0.76296635 0.89976857 0.70171045]\n",
            " [0.85940622 0.2372433  0.94681327 0.26256825]\n",
            " [0.37890305 0.74976507 0.60196921 0.51410219]\n",
            " [0.84226814 0.62771982 0.58292853 0.82718676]\n",
            " [0.48606248 0.7396856  0.78719396 0.23287987]\n",
            " [0.63813539 0.48929682 0.90237377 0.74416596]]\n",
            "[[0.84226814 0.62771982 0.58292853 0.82718676]\n",
            " [0.48606248 0.7396856  0.78719396 0.23287987]]\n"
          ]
        }
      ],
      "source": [
        "# Challenge 4\n",
        "# Let's create a random 6 x 4 matrix then select the 3rd and 4th rows\n",
        "#\n",
        "\n",
        "array = np.random.random((6,4))\n",
        "print(array)\n",
        "\n",
        "print(array[[3,4]])"
      ]
    },
    {
      "cell_type": "markdown",
      "metadata": {
        "id": "7HM2oS-c6Fyz"
      },
      "source": [
        "## 1.4 Conditional Selection"
      ]
    },
    {
      "cell_type": "code",
      "execution_count": 45,
      "metadata": {
        "colab": {
          "base_uri": "https://localhost:8080/"
        },
        "id": "X02c9mGxaRdu",
        "outputId": "5f92a82d-bdc8-44aa-94db-f95e59b29940"
      },
      "outputs": [
        {
          "name": "stdout",
          "output_type": "stream",
          "text": [
            "[ 1  2  3  4  5  6  7  8  9 10]\n"
          ]
        }
      ],
      "source": [
        "# We can use conditions to check for whether elements in a certain range satisfy a condition.\n",
        "# Let's first creating an array. Do you remember what the arrange function does?\n",
        "#\n",
        "conditional_arr = np.arange(1,11)\n",
        "print(conditional_arr)"
      ]
    },
    {
      "cell_type": "code",
      "execution_count": 46,
      "metadata": {
        "colab": {
          "base_uri": "https://localhost:8080/"
        },
        "id": "ekQ-AjCS6Lf1",
        "outputId": "33abdde8-577b-491d-d3fb-11c599aadd6f"
      },
      "outputs": [
        {
          "data": {
            "text/plain": [
              "array([False, False, False,  True,  True,  True,  True,  True,  True,\n",
              "        True])"
            ]
          },
          "execution_count": 46,
          "metadata": {},
          "output_type": "execute_result"
        }
      ],
      "source": [
        "# Example 1  \n",
        "# What do we do here?\n",
        "#\n",
        "conditional_arr > 3"
      ]
    },
    {
      "cell_type": "code",
      "execution_count": 47,
      "metadata": {
        "colab": {
          "base_uri": "https://localhost:8080/"
        },
        "id": "_CMv_cG36P8s",
        "outputId": "a448fa5c-651e-47ab-e4d9-446e90f23eb0"
      },
      "outputs": [
        {
          "name": "stdout",
          "output_type": "stream",
          "text": [
            "[False False False  True  True  True  True  True  True  True]\n",
            "[ 4  5  6  7  8  9 10]\n"
          ]
        }
      ],
      "source": [
        "# Example 2\n",
        "# What happens here?\n",
        "#\n",
        "bool_arr = conditional_arr > 3\n",
        "print(bool_arr)\n",
        "\n",
        "print(conditional_arr[bool_arr])"
      ]
    },
    {
      "cell_type": "code",
      "execution_count": 48,
      "metadata": {
        "colab": {
          "base_uri": "https://localhost:8080/"
        },
        "id": "ZmMJyzcM6X8d",
        "outputId": "248ec3d3-b2be-4a0b-fcb0-3bbd6c68f6c6"
      },
      "outputs": [
        {
          "name": "stdout",
          "output_type": "stream",
          "text": [
            "[ 5  6  7  8  9 10]\n"
          ]
        }
      ],
      "source": [
        "# Example 3\n",
        "# Finally, let's select those values in our array that satisfy our condition\n",
        "# \n",
        "print(conditional_arr[conditional_arr > 4])"
      ]
    },
    {
      "cell_type": "markdown",
      "metadata": {
        "id": "FXNTaawR7Lly"
      },
      "source": [
        "### <font color=\"green\">1.4 Challenges</font>"
      ]
    },
    {
      "cell_type": "code",
      "execution_count": 49,
      "metadata": {
        "id": "JvOfEoCQdPW3"
      },
      "outputs": [],
      "source": [
        "# Creating the array to be used below\n",
        "#\n",
        "x = np.array([[0, 1, 2], [3, 4, 5], [6, 7, 8]])"
      ]
    },
    {
      "cell_type": "code",
      "execution_count": 50,
      "metadata": {
        "colab": {
          "base_uri": "https://localhost:8080/"
        },
        "id": "X8wmyySf7TRt",
        "outputId": "efe7d743-0a3b-4d6c-d054-31bffaa4d0b9"
      },
      "outputs": [
        {
          "name": "stdout",
          "output_type": "stream",
          "text": [
            "[3 4 5]\n"
          ]
        }
      ],
      "source": [
        "# Challenge 1\n",
        "# Get the 2nd row using conditional selection\n",
        "#\n",
        "\n",
        "print(x[1])"
      ]
    },
    {
      "cell_type": "code",
      "execution_count": 51,
      "metadata": {
        "colab": {
          "base_uri": "https://localhost:8080/"
        },
        "id": "h3uZ6qls7UMq",
        "outputId": "3acfcdcf-5633-44ec-9ea0-fe5cf4500ea8"
      },
      "outputs": [
        {
          "data": {
            "text/plain": [
              "array([[False, False, False],\n",
              "       [ True,  True,  True],\n",
              "       [ True,  True,  True]])"
            ]
          },
          "execution_count": 51,
          "metadata": {},
          "output_type": "execute_result"
        }
      ],
      "source": [
        "# Challenge 2\n",
        "# Which elements are greater than two?\n",
        "#\n",
        "x > 2"
      ]
    },
    {
      "cell_type": "code",
      "execution_count": 52,
      "metadata": {
        "colab": {
          "base_uri": "https://localhost:8080/"
        },
        "id": "yKfmU0xF7U-V",
        "outputId": "844a1c57-593d-4510-bd41-6c9dac7e0f10"
      },
      "outputs": [
        {
          "name": "stdout",
          "output_type": "stream",
          "text": [
            "[7 8]\n"
          ]
        }
      ],
      "source": [
        "# Challenge 3\n",
        "# Get the array [7, 8] from the x array\n",
        "# \n",
        "print(x[2][1:3])"
      ]
    },
    {
      "cell_type": "markdown",
      "metadata": {
        "id": "5mWusWpH6eff"
      },
      "source": [
        "## 1.5 Operations"
      ]
    },
    {
      "cell_type": "code",
      "execution_count": 53,
      "metadata": {
        "colab": {
          "base_uri": "https://localhost:8080/"
        },
        "id": "JIDxVUI0nVEY",
        "outputId": "32786047-3068-4ce5-8cbc-f9123e7ec6b2"
      },
      "outputs": [
        {
          "name": "stdout",
          "output_type": "stream",
          "text": [
            "[0 1 2 3 4]\n"
          ]
        }
      ],
      "source": [
        "# Creating the array that we will use below:\n",
        "# \n",
        "a = np.arange(0,5)\n",
        "print(a)"
      ]
    },
    {
      "cell_type": "code",
      "execution_count": 54,
      "metadata": {
        "colab": {
          "base_uri": "https://localhost:8080/"
        },
        "id": "YRtb1N4i6hbE",
        "outputId": "8cc61603-d5db-43b3-820d-df9f564cf915"
      },
      "outputs": [
        {
          "name": "stdout",
          "output_type": "stream",
          "text": [
            "[0 2 4 6 8]\n",
            "[0 2 4 6 8]\n"
          ]
        }
      ],
      "source": [
        "# Example 1\n",
        "# Arithmetic Operations\n",
        "# \n",
        "addition_arr = a + a\n",
        "print(addition_arr)\n",
        "\n",
        "subtration_arr = a - a\n",
        "print(addition_arr)"
      ]
    },
    {
      "cell_type": "code",
      "execution_count": 55,
      "metadata": {
        "colab": {
          "base_uri": "https://localhost:8080/"
        },
        "id": "33NeFWBs6l13",
        "outputId": "9637916a-494d-45a7-fd8a-9ccab932211b"
      },
      "outputs": [
        {
          "name": "stdout",
          "output_type": "stream",
          "text": [
            "[0.         1.         1.41421356 1.73205081 2.        ]\n",
            "[ 1.          2.71828183  7.3890561  20.08553692 54.59815003]\n"
          ]
        }
      ],
      "source": [
        "# Example 2\n",
        "# Universal Array Functions\n",
        "# \n",
        "\n",
        "# square root\n",
        "sqr_arr = np.sqrt(a)\n",
        "print(sqr_arr)\n",
        "\n",
        "# exponential\n",
        "exp_arr = np.exp(a)\n",
        "print(exp_arr)"
      ]
    },
    {
      "cell_type": "markdown",
      "metadata": {
        "id": "RMVtc9Bs7bb6"
      },
      "source": [
        "### <font color=\"green\">1.5 Challenges</font>"
      ]
    },
    {
      "cell_type": "code",
      "execution_count": 56,
      "metadata": {
        "colab": {
          "base_uri": "https://localhost:8080/"
        },
        "id": "m8pWm82gkHqk",
        "outputId": "ea70383a-af13-414b-8148-d200060593f0"
      },
      "outputs": [
        {
          "name": "stdout",
          "output_type": "stream",
          "text": [
            "[0.         1.         1.41421356 1.73205081 2.        ]\n"
          ]
        }
      ],
      "source": [
        "# Challenge 1\n",
        "# Raise the a array created above to the power of 2\n",
        "#\n",
        "print(np.sqrt(a))"
      ]
    },
    {
      "cell_type": "code",
      "execution_count": 57,
      "metadata": {
        "colab": {
          "base_uri": "https://localhost:8080/"
        },
        "id": "y1CxcuFj7ehe",
        "outputId": "abf7e790-7954-445c-b606-9b9799e63b3a"
      },
      "outputs": [
        {
          "name": "stdout",
          "output_type": "stream",
          "text": [
            "[[      -inf 0.         0.69314718]\n",
            " [1.09861229 1.38629436 1.60943791]\n",
            " [1.79175947 1.94591015 2.07944154]]\n"
          ]
        },
        {
          "name": "stderr",
          "output_type": "stream",
          "text": [
            "/var/folders/rh/hyhcn5f12jqd6_4fz9f24wg80000gn/T/ipykernel_28413/2251875304.py:5: RuntimeWarning: divide by zero encountered in log\n",
            "  print(np.log(x))\n"
          ]
        }
      ],
      "source": [
        "# Challenge 2\n",
        "# Find the log of a using log(), \n",
        "# the Universal Array Functions\n",
        "#\n",
        "print(np.log(x))"
      ]
    },
    {
      "cell_type": "code",
      "execution_count": 58,
      "metadata": {
        "id": "QB-54zeYjWOa"
      },
      "outputs": [],
      "source": [
        "# Challenge 3\n",
        "# This of a dataset then determine where you can use the \n",
        "# numpy concepts that you learnt in this session?\n",
        "# Then explain them to your peer."
      ]
    }
  ],
  "metadata": {
    "colab": {
      "collapsed_sections": [],
      "name": "Copy of Python Programming - Numpy Basics",
      "provenance": [],
      "toc_visible": true
    },
    "kernelspec": {
      "display_name": "Python 3",
      "name": "python3"
    },
    "language_info": {
      "codemirror_mode": {
        "name": "ipython",
        "version": 3
      },
      "file_extension": ".py",
      "mimetype": "text/x-python",
      "name": "python",
      "nbconvert_exporter": "python",
      "pygments_lexer": "ipython3",
      "version": "3.9.1"
    }
  },
  "nbformat": 4,
  "nbformat_minor": 0
}
